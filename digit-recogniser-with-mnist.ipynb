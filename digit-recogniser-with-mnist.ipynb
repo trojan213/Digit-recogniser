{
 "cells": [
  {
   "cell_type": "code",
   "execution_count": 1,
   "id": "198c2412",
   "metadata": {
    "_cell_guid": "b1076dfc-b9ad-4769-8c92-a6c4dae69d19",
    "_uuid": "8f2839f25d086af736a60e9eeb907d3b93b6e0e5",
    "execution": {
     "iopub.execute_input": "2023-04-04T15:51:08.755155Z",
     "iopub.status.busy": "2023-04-04T15:51:08.754707Z",
     "iopub.status.idle": "2023-04-04T15:51:08.763818Z",
     "shell.execute_reply": "2023-04-04T15:51:08.762808Z"
    },
    "papermill": {
     "duration": 0.01684,
     "end_time": "2023-04-04T15:51:08.765814",
     "exception": false,
     "start_time": "2023-04-04T15:51:08.748974",
     "status": "completed"
    },
    "tags": []
   },
   "outputs": [],
   "source": [
    "import numpy as np\n",
    "import pandas as pd\n",
    "from matplotlib import pyplot as plt\n"
   ]
  },
  {
   "cell_type": "code",
   "execution_count": 2,
   "id": "4aa988d4",
   "metadata": {
    "execution": {
     "iopub.execute_input": "2023-04-04T15:51:08.774631Z",
     "iopub.status.busy": "2023-04-04T15:51:08.774224Z",
     "iopub.status.idle": "2023-04-04T15:51:11.413704Z",
     "shell.execute_reply": "2023-04-04T15:51:11.412135Z"
    },
    "papermill": {
     "duration": 2.647278,
     "end_time": "2023-04-04T15:51:11.416756",
     "exception": false,
     "start_time": "2023-04-04T15:51:08.769478",
     "status": "completed"
    },
    "tags": []
   },
   "outputs": [],
   "source": [
    "data = pd.read_csv('/kaggle/input/digit-recognizer/train.csv')"
   ]
  },
  {
   "cell_type": "code",
   "execution_count": 3,
   "id": "d549263a",
   "metadata": {
    "execution": {
     "iopub.execute_input": "2023-04-04T15:51:11.425713Z",
     "iopub.status.busy": "2023-04-04T15:51:11.425342Z",
     "iopub.status.idle": "2023-04-04T15:51:11.460706Z",
     "shell.execute_reply": "2023-04-04T15:51:11.459465Z"
    },
    "papermill": {
     "duration": 0.042757,
     "end_time": "2023-04-04T15:51:11.463225",
     "exception": false,
     "start_time": "2023-04-04T15:51:11.420468",
     "status": "completed"
    },
    "tags": []
   },
   "outputs": [
    {
     "data": {
      "text/html": [
       "<div>\n",
       "<style scoped>\n",
       "    .dataframe tbody tr th:only-of-type {\n",
       "        vertical-align: middle;\n",
       "    }\n",
       "\n",
       "    .dataframe tbody tr th {\n",
       "        vertical-align: top;\n",
       "    }\n",
       "\n",
       "    .dataframe thead th {\n",
       "        text-align: right;\n",
       "    }\n",
       "</style>\n",
       "<table border=\"1\" class=\"dataframe\">\n",
       "  <thead>\n",
       "    <tr style=\"text-align: right;\">\n",
       "      <th></th>\n",
       "      <th>label</th>\n",
       "      <th>pixel0</th>\n",
       "      <th>pixel1</th>\n",
       "      <th>pixel2</th>\n",
       "      <th>pixel3</th>\n",
       "      <th>pixel4</th>\n",
       "      <th>pixel5</th>\n",
       "      <th>pixel6</th>\n",
       "      <th>pixel7</th>\n",
       "      <th>pixel8</th>\n",
       "      <th>...</th>\n",
       "      <th>pixel774</th>\n",
       "      <th>pixel775</th>\n",
       "      <th>pixel776</th>\n",
       "      <th>pixel777</th>\n",
       "      <th>pixel778</th>\n",
       "      <th>pixel779</th>\n",
       "      <th>pixel780</th>\n",
       "      <th>pixel781</th>\n",
       "      <th>pixel782</th>\n",
       "      <th>pixel783</th>\n",
       "    </tr>\n",
       "  </thead>\n",
       "  <tbody>\n",
       "    <tr>\n",
       "      <th>0</th>\n",
       "      <td>1</td>\n",
       "      <td>0</td>\n",
       "      <td>0</td>\n",
       "      <td>0</td>\n",
       "      <td>0</td>\n",
       "      <td>0</td>\n",
       "      <td>0</td>\n",
       "      <td>0</td>\n",
       "      <td>0</td>\n",
       "      <td>0</td>\n",
       "      <td>...</td>\n",
       "      <td>0</td>\n",
       "      <td>0</td>\n",
       "      <td>0</td>\n",
       "      <td>0</td>\n",
       "      <td>0</td>\n",
       "      <td>0</td>\n",
       "      <td>0</td>\n",
       "      <td>0</td>\n",
       "      <td>0</td>\n",
       "      <td>0</td>\n",
       "    </tr>\n",
       "    <tr>\n",
       "      <th>1</th>\n",
       "      <td>0</td>\n",
       "      <td>0</td>\n",
       "      <td>0</td>\n",
       "      <td>0</td>\n",
       "      <td>0</td>\n",
       "      <td>0</td>\n",
       "      <td>0</td>\n",
       "      <td>0</td>\n",
       "      <td>0</td>\n",
       "      <td>0</td>\n",
       "      <td>...</td>\n",
       "      <td>0</td>\n",
       "      <td>0</td>\n",
       "      <td>0</td>\n",
       "      <td>0</td>\n",
       "      <td>0</td>\n",
       "      <td>0</td>\n",
       "      <td>0</td>\n",
       "      <td>0</td>\n",
       "      <td>0</td>\n",
       "      <td>0</td>\n",
       "    </tr>\n",
       "    <tr>\n",
       "      <th>2</th>\n",
       "      <td>1</td>\n",
       "      <td>0</td>\n",
       "      <td>0</td>\n",
       "      <td>0</td>\n",
       "      <td>0</td>\n",
       "      <td>0</td>\n",
       "      <td>0</td>\n",
       "      <td>0</td>\n",
       "      <td>0</td>\n",
       "      <td>0</td>\n",
       "      <td>...</td>\n",
       "      <td>0</td>\n",
       "      <td>0</td>\n",
       "      <td>0</td>\n",
       "      <td>0</td>\n",
       "      <td>0</td>\n",
       "      <td>0</td>\n",
       "      <td>0</td>\n",
       "      <td>0</td>\n",
       "      <td>0</td>\n",
       "      <td>0</td>\n",
       "    </tr>\n",
       "    <tr>\n",
       "      <th>3</th>\n",
       "      <td>4</td>\n",
       "      <td>0</td>\n",
       "      <td>0</td>\n",
       "      <td>0</td>\n",
       "      <td>0</td>\n",
       "      <td>0</td>\n",
       "      <td>0</td>\n",
       "      <td>0</td>\n",
       "      <td>0</td>\n",
       "      <td>0</td>\n",
       "      <td>...</td>\n",
       "      <td>0</td>\n",
       "      <td>0</td>\n",
       "      <td>0</td>\n",
       "      <td>0</td>\n",
       "      <td>0</td>\n",
       "      <td>0</td>\n",
       "      <td>0</td>\n",
       "      <td>0</td>\n",
       "      <td>0</td>\n",
       "      <td>0</td>\n",
       "    </tr>\n",
       "    <tr>\n",
       "      <th>4</th>\n",
       "      <td>0</td>\n",
       "      <td>0</td>\n",
       "      <td>0</td>\n",
       "      <td>0</td>\n",
       "      <td>0</td>\n",
       "      <td>0</td>\n",
       "      <td>0</td>\n",
       "      <td>0</td>\n",
       "      <td>0</td>\n",
       "      <td>0</td>\n",
       "      <td>...</td>\n",
       "      <td>0</td>\n",
       "      <td>0</td>\n",
       "      <td>0</td>\n",
       "      <td>0</td>\n",
       "      <td>0</td>\n",
       "      <td>0</td>\n",
       "      <td>0</td>\n",
       "      <td>0</td>\n",
       "      <td>0</td>\n",
       "      <td>0</td>\n",
       "    </tr>\n",
       "  </tbody>\n",
       "</table>\n",
       "<p>5 rows × 785 columns</p>\n",
       "</div>"
      ],
      "text/plain": [
       "   label  pixel0  pixel1  pixel2  pixel3  pixel4  pixel5  pixel6  pixel7  \\\n",
       "0      1       0       0       0       0       0       0       0       0   \n",
       "1      0       0       0       0       0       0       0       0       0   \n",
       "2      1       0       0       0       0       0       0       0       0   \n",
       "3      4       0       0       0       0       0       0       0       0   \n",
       "4      0       0       0       0       0       0       0       0       0   \n",
       "\n",
       "   pixel8  ...  pixel774  pixel775  pixel776  pixel777  pixel778  pixel779  \\\n",
       "0       0  ...         0         0         0         0         0         0   \n",
       "1       0  ...         0         0         0         0         0         0   \n",
       "2       0  ...         0         0         0         0         0         0   \n",
       "3       0  ...         0         0         0         0         0         0   \n",
       "4       0  ...         0         0         0         0         0         0   \n",
       "\n",
       "   pixel780  pixel781  pixel782  pixel783  \n",
       "0         0         0         0         0  \n",
       "1         0         0         0         0  \n",
       "2         0         0         0         0  \n",
       "3         0         0         0         0  \n",
       "4         0         0         0         0  \n",
       "\n",
       "[5 rows x 785 columns]"
      ]
     },
     "execution_count": 3,
     "metadata": {},
     "output_type": "execute_result"
    }
   ],
   "source": [
    "data.head()"
   ]
  },
  {
   "cell_type": "code",
   "execution_count": 4,
   "id": "646869cc",
   "metadata": {
    "execution": {
     "iopub.execute_input": "2023-04-04T15:51:11.472747Z",
     "iopub.status.busy": "2023-04-04T15:51:11.472361Z",
     "iopub.status.idle": "2023-04-04T15:51:11.937657Z",
     "shell.execute_reply": "2023-04-04T15:51:11.936476Z"
    },
    "papermill": {
     "duration": 0.472942,
     "end_time": "2023-04-04T15:51:11.940158",
     "exception": false,
     "start_time": "2023-04-04T15:51:11.467216",
     "status": "completed"
    },
    "tags": []
   },
   "outputs": [],
   "source": [
    "data = np.array(data)\n",
    "m, n = data.shape\n",
    "np.random.shuffle(data) # shuffle before splitting into dev and training sets\n",
    "\n",
    "data_dev = data[0:1000].T\n",
    "Y_dev = data_dev[0]\n",
    "X_dev = data_dev[1:n]\n",
    "X_dev = X_dev / 255.\n",
    "\n",
    "data_train = data[1000:m].T\n",
    "Y_train = data_train[0]\n",
    "X_train = data_train[1:n]\n",
    "X_train = X_train / 255.\n"
   ]
  },
  {
   "cell_type": "code",
   "execution_count": 5,
   "id": "c806bd76",
   "metadata": {
    "execution": {
     "iopub.execute_input": "2023-04-04T15:51:11.949584Z",
     "iopub.status.busy": "2023-04-04T15:51:11.949215Z",
     "iopub.status.idle": "2023-04-04T15:51:11.962061Z",
     "shell.execute_reply": "2023-04-04T15:51:11.960491Z"
    },
    "papermill": {
     "duration": 0.020455,
     "end_time": "2023-04-04T15:51:11.964522",
     "exception": false,
     "start_time": "2023-04-04T15:51:11.944067",
     "status": "completed"
    },
    "tags": []
   },
   "outputs": [],
   "source": [
    "def init_params():\n",
    "    W1 = np.random.rand(10, 784) - 0.5\n",
    "    b1 = np.random.rand(10, 1) - 0.5\n",
    "    W2 = np.random.rand(10, 10) - 0.5\n",
    "    b2 = np.random.rand(10, 1) - 0.5\n",
    "    return W1, b1, W2, b2\n",
    "\n",
    "def ReLU(Z):\n",
    "    return np.maximum(Z, 0)\n",
    "\n",
    "def softmax(Z):\n",
    "    A = np.exp(Z) / sum(np.exp(Z))\n",
    "    return A\n",
    "    \n",
    "def forward_prop(W1, b1, W2, b2, X):\n",
    "    Z1 = W1.dot(X) + b1\n",
    "    A1 = ReLU(Z1)\n",
    "    Z2 = W2.dot(A1) + b2\n",
    "    A2 = softmax(Z2)\n",
    "    return Z1, A1, Z2, A2\n",
    "\n",
    "def ReLU_deriv(Z):\n",
    "    return Z > 0\n",
    "\n",
    "def one_hot(Y):\n",
    "    one_hot_Y = np.zeros((Y.size, Y.max() + 1))\n",
    "    one_hot_Y[np.arange(Y.size), Y] = 1\n",
    "    one_hot_Y = one_hot_Y.T\n",
    "    return one_hot_Y\n",
    "\n",
    "def backward_prop(Z1, A1, Z2, A2, W1, W2, X, Y):\n",
    "    one_hot_Y = one_hot(Y)\n",
    "    dZ2 = A2 - one_hot_Y\n",
    "    dW2 = 1 / m * dZ2.dot(A1.T)\n",
    "    db2 = 1 / m * np.sum(dZ2)\n",
    "    dZ1 = W2.T.dot(dZ2) * ReLU_deriv(Z1)\n",
    "    dW1 = 1 / m * dZ1.dot(X.T)\n",
    "    db1 = 1 / m * np.sum(dZ1)\n",
    "    return dW1, db1, dW2, db2\n",
    "\n",
    "def update_params(W1, b1, W2, b2, dW1, db1, dW2, db2, alpha):\n",
    "    W1 = W1 - alpha * dW1\n",
    "    b1 = b1 - alpha * db1    \n",
    "    W2 = W2 - alpha * dW2  \n",
    "    b2 = b2 - alpha * db2    \n",
    "    return W1, b1, W2, b2\n",
    "\n",
    "\n",
    "\n",
    "\n",
    "    \n",
    "    "
   ]
  },
  {
   "cell_type": "code",
   "execution_count": 6,
   "id": "7f9cbcb1",
   "metadata": {
    "execution": {
     "iopub.execute_input": "2023-04-04T15:51:11.973652Z",
     "iopub.status.busy": "2023-04-04T15:51:11.973316Z",
     "iopub.status.idle": "2023-04-04T15:51:11.983461Z",
     "shell.execute_reply": "2023-04-04T15:51:11.982148Z"
    },
    "papermill": {
     "duration": 0.017627,
     "end_time": "2023-04-04T15:51:11.986077",
     "exception": false,
     "start_time": "2023-04-04T15:51:11.968450",
     "status": "completed"
    },
    "tags": []
   },
   "outputs": [],
   "source": [
    "def get_predictions(A2):\n",
    "    return np.argmax(A2, 0)\n",
    "\n",
    "def get_accuracy(predictions, Y):\n",
    "    print(predictions, Y)\n",
    "    return np.sum(predictions == Y) / Y.size\n",
    "\n",
    "def gradient_descent(X, Y, alpha, iterations):\n",
    "    W1, b1, W2, b2 = init_params()\n",
    "    for i in range(iterations):\n",
    "        Z1, A1, Z2, A2 = forward_prop(W1, b1, W2, b2, X)\n",
    "        dW1, db1, dW2, db2 = backward_prop(Z1, A1, Z2, A2, W1, W2, X, Y)\n",
    "        W1, b1, W2, b2 = update_params(W1, b1, W2, b2, dW1, db1, dW2, db2, alpha)\n",
    "        if i % 10 == 0:\n",
    "            print(\"Iteration: \", i)\n",
    "            predictions = get_predictions(A2)\n",
    "            print(get_accuracy(predictions, Y))\n",
    "    return W1, b1, W2, b2"
   ]
  },
  {
   "cell_type": "code",
   "execution_count": 7,
   "id": "1eb79078",
   "metadata": {
    "execution": {
     "iopub.execute_input": "2023-04-04T15:51:11.995468Z",
     "iopub.status.busy": "2023-04-04T15:51:11.995011Z",
     "iopub.status.idle": "2023-04-04T15:51:51.797494Z",
     "shell.execute_reply": "2023-04-04T15:51:51.796644Z"
    },
    "papermill": {
     "duration": 39.810032,
     "end_time": "2023-04-04T15:51:51.799936",
     "exception": false,
     "start_time": "2023-04-04T15:51:11.989904",
     "status": "completed"
    },
    "tags": []
   },
   "outputs": [
    {
     "name": "stdout",
     "output_type": "stream",
     "text": [
      "Iteration:  0\n",
      "[3 3 8 ... 5 3 8] [2 1 3 ... 0 0 2]\n",
      "0.12221951219512195\n",
      "Iteration:  10\n",
      "[3 3 3 ... 5 3 5] [2 1 3 ... 0 0 2]\n",
      "0.13260975609756098\n",
      "Iteration:  20\n",
      "[3 3 3 ... 9 3 3] [2 1 3 ... 0 0 2]\n",
      "0.14539024390243901\n",
      "Iteration:  30\n",
      "[3 3 3 ... 9 3 3] [2 1 3 ... 0 0 2]\n",
      "0.1623170731707317\n",
      "Iteration:  40\n",
      "[3 3 3 ... 9 3 3] [2 1 3 ... 0 0 2]\n",
      "0.17724390243902438\n",
      "Iteration:  50\n",
      "[3 3 3 ... 9 3 8] [2 1 3 ... 0 0 2]\n",
      "0.19970731707317074\n",
      "Iteration:  60\n",
      "[3 3 9 ... 9 9 8] [2 1 3 ... 0 0 2]\n",
      "0.2309268292682927\n",
      "Iteration:  70\n",
      "[3 3 9 ... 0 9 8] [2 1 3 ... 0 0 2]\n",
      "0.2793414634146342\n",
      "Iteration:  80\n",
      "[3 3 9 ... 0 7 8] [2 1 3 ... 0 0 2]\n",
      "0.34604878048780485\n",
      "Iteration:  90\n",
      "[3 3 7 ... 0 7 8] [2 1 3 ... 0 0 2]\n",
      "0.39639024390243904\n",
      "Iteration:  100\n",
      "[3 3 7 ... 0 7 8] [2 1 3 ... 0 0 2]\n",
      "0.44951219512195123\n",
      "Iteration:  110\n",
      "[3 1 7 ... 0 7 3] [2 1 3 ... 0 0 2]\n",
      "0.5005853658536585\n",
      "Iteration:  120\n",
      "[3 1 5 ... 0 7 3] [2 1 3 ... 0 0 2]\n",
      "0.5476341463414635\n",
      "Iteration:  130\n",
      "[3 1 5 ... 0 7 3] [2 1 3 ... 0 0 2]\n",
      "0.5844390243902439\n",
      "Iteration:  140\n",
      "[2 1 5 ... 0 7 3] [2 1 3 ... 0 0 2]\n",
      "0.6151951219512195\n",
      "Iteration:  150\n",
      "[2 1 5 ... 0 7 3] [2 1 3 ... 0 0 2]\n",
      "0.6385853658536585\n",
      "Iteration:  160\n",
      "[2 1 5 ... 0 4 3] [2 1 3 ... 0 0 2]\n",
      "0.659390243902439\n",
      "Iteration:  170\n",
      "[2 1 8 ... 0 4 3] [2 1 3 ... 0 0 2]\n",
      "0.6763902439024391\n",
      "Iteration:  180\n",
      "[2 1 8 ... 0 4 3] [2 1 3 ... 0 0 2]\n",
      "0.6910731707317073\n",
      "Iteration:  190\n",
      "[2 1 8 ... 0 4 3] [2 1 3 ... 0 0 2]\n",
      "0.7046829268292683\n",
      "Iteration:  200\n",
      "[2 1 8 ... 0 4 3] [2 1 3 ... 0 0 2]\n",
      "0.7158536585365853\n",
      "Iteration:  210\n",
      "[2 1 8 ... 0 4 3] [2 1 3 ... 0 0 2]\n",
      "0.7271463414634146\n",
      "Iteration:  220\n",
      "[2 1 8 ... 0 4 3] [2 1 3 ... 0 0 2]\n",
      "0.7362195121951219\n",
      "Iteration:  230\n",
      "[2 1 8 ... 0 4 3] [2 1 3 ... 0 0 2]\n",
      "0.7441951219512195\n",
      "Iteration:  240\n",
      "[2 1 8 ... 0 4 3] [2 1 3 ... 0 0 2]\n",
      "0.7517560975609756\n",
      "Iteration:  250\n",
      "[2 1 8 ... 0 4 3] [2 1 3 ... 0 0 2]\n",
      "0.7591463414634146\n",
      "Iteration:  260\n",
      "[2 1 8 ... 0 4 3] [2 1 3 ... 0 0 2]\n",
      "0.7653658536585366\n",
      "Iteration:  270\n",
      "[2 1 8 ... 0 4 3] [2 1 3 ... 0 0 2]\n",
      "0.771390243902439\n",
      "Iteration:  280\n",
      "[2 1 8 ... 0 4 3] [2 1 3 ... 0 0 2]\n",
      "0.7768048780487805\n",
      "Iteration:  290\n",
      "[2 1 8 ... 0 4 3] [2 1 3 ... 0 0 2]\n",
      "0.7823170731707317\n",
      "Iteration:  300\n",
      "[2 1 8 ... 0 4 3] [2 1 3 ... 0 0 2]\n",
      "0.7870975609756098\n",
      "Iteration:  310\n",
      "[2 1 8 ... 0 2 3] [2 1 3 ... 0 0 2]\n",
      "0.7918048780487805\n",
      "Iteration:  320\n",
      "[2 1 8 ... 0 2 3] [2 1 3 ... 0 0 2]\n",
      "0.7953658536585366\n",
      "Iteration:  330\n",
      "[2 1 8 ... 0 2 3] [2 1 3 ... 0 0 2]\n",
      "0.799609756097561\n",
      "Iteration:  340\n",
      "[2 1 8 ... 0 2 3] [2 1 3 ... 0 0 2]\n",
      "0.8030975609756098\n",
      "Iteration:  350\n",
      "[2 1 8 ... 0 2 3] [2 1 3 ... 0 0 2]\n",
      "0.8062439024390244\n",
      "Iteration:  360\n",
      "[2 1 8 ... 0 2 2] [2 1 3 ... 0 0 2]\n",
      "0.8092682926829269\n",
      "Iteration:  370\n",
      "[2 1 8 ... 0 2 2] [2 1 3 ... 0 0 2]\n",
      "0.8129268292682926\n",
      "Iteration:  380\n",
      "[2 1 8 ... 0 2 2] [2 1 3 ... 0 0 2]\n",
      "0.8158536585365853\n",
      "Iteration:  390\n",
      "[2 1 8 ... 0 2 2] [2 1 3 ... 0 0 2]\n",
      "0.8186341463414634\n",
      "Iteration:  400\n",
      "[2 1 8 ... 0 2 2] [2 1 3 ... 0 0 2]\n",
      "0.8217560975609756\n",
      "Iteration:  410\n",
      "[2 1 8 ... 0 2 2] [2 1 3 ... 0 0 2]\n",
      "0.8239756097560975\n",
      "Iteration:  420\n",
      "[2 1 8 ... 0 2 2] [2 1 3 ... 0 0 2]\n",
      "0.8259512195121951\n",
      "Iteration:  430\n",
      "[2 1 8 ... 0 2 2] [2 1 3 ... 0 0 2]\n",
      "0.8286829268292683\n",
      "Iteration:  440\n",
      "[2 1 8 ... 0 2 2] [2 1 3 ... 0 0 2]\n",
      "0.8309024390243902\n",
      "Iteration:  450\n",
      "[2 1 8 ... 0 2 2] [2 1 3 ... 0 0 2]\n",
      "0.8333414634146341\n",
      "Iteration:  460\n",
      "[2 1 8 ... 0 2 2] [2 1 3 ... 0 0 2]\n",
      "0.8355609756097561\n",
      "Iteration:  470\n",
      "[2 1 8 ... 0 2 2] [2 1 3 ... 0 0 2]\n",
      "0.8368292682926829\n",
      "Iteration:  480\n",
      "[2 1 8 ... 0 2 2] [2 1 3 ... 0 0 2]\n",
      "0.8387317073170731\n",
      "Iteration:  490\n",
      "[2 1 8 ... 0 2 2] [2 1 3 ... 0 0 2]\n",
      "0.8401951219512195\n"
     ]
    }
   ],
   "source": [
    "W1, b1, W2, b2 = gradient_descent(X_train, Y_train, 0.10, 500)"
   ]
  },
  {
   "cell_type": "code",
   "execution_count": 8,
   "id": "92a92bd4",
   "metadata": {
    "execution": {
     "iopub.execute_input": "2023-04-04T15:51:51.819544Z",
     "iopub.status.busy": "2023-04-04T15:51:51.819162Z",
     "iopub.status.idle": "2023-04-04T15:51:51.828533Z",
     "shell.execute_reply": "2023-04-04T15:51:51.827722Z"
    },
    "papermill": {
     "duration": 0.021621,
     "end_time": "2023-04-04T15:51:51.830883",
     "exception": false,
     "start_time": "2023-04-04T15:51:51.809262",
     "status": "completed"
    },
    "tags": []
   },
   "outputs": [],
   "source": [
    "def make_predictions(X, W1, b1, W2, b2):\n",
    "    _, _, _, A2 = forward_prop(W1, b1, W2, b2, X)\n",
    "    predictions = get_predictions(A2)\n",
    "    return predictions\n",
    "\n",
    "def test_prediction(index, W1, b1, W2, b2):\n",
    "    current_image = X_train[:, index, None]\n",
    "    prediction = make_predictions(X_train[:, index, None], W1, b1, W2, b2)\n",
    "    label = Y_train[index]\n",
    "    print(\"Prediction: \", prediction)\n",
    "    print(\"Label: \", label)\n",
    "    \n",
    "    current_image = current_image.reshape((28, 28)) * 255\n",
    "    plt.gray()\n",
    "    plt.imshow(current_image, interpolation='nearest')\n",
    "    plt.show()"
   ]
  },
  {
   "cell_type": "code",
   "execution_count": 9,
   "id": "aba40dff",
   "metadata": {
    "execution": {
     "iopub.execute_input": "2023-04-04T15:51:51.849356Z",
     "iopub.status.busy": "2023-04-04T15:51:51.848994Z",
     "iopub.status.idle": "2023-04-04T15:51:52.012396Z",
     "shell.execute_reply": "2023-04-04T15:51:52.011582Z"
    },
    "papermill": {
     "duration": 0.174972,
     "end_time": "2023-04-04T15:51:52.014640",
     "exception": false,
     "start_time": "2023-04-04T15:51:51.839668",
     "status": "completed"
    },
    "tags": []
   },
   "outputs": [
    {
     "name": "stdout",
     "output_type": "stream",
     "text": [
      "Prediction:  [2]\n",
      "Label:  2\n"
     ]
    },
    {
     "data": {
      "image/png": "[encoded data removed]",
      "text/plain": [
       "<Figure size 640x480 with 1 Axes>"
      ]
     },
     "metadata": {},
     "output_type": "display_data"
    }
   ],
   "source": [
    "test_prediction(0, W1, b1, W2, b2)\n"
   ]
  },
  {
   "cell_type": "code",
   "execution_count": 10,
   "id": "19ae2029",
   "metadata": {
    "execution": {
     "iopub.execute_input": "2023-04-04T15:51:52.030559Z",
     "iopub.status.busy": "2023-04-04T15:51:52.030184Z",
     "iopub.status.idle": "2023-04-04T15:51:52.558243Z",
     "shell.execute_reply": "2023-04-04T15:51:52.557267Z"
    },
    "papermill": {
     "duration": 0.539502,
     "end_time": "2023-04-04T15:51:52.561196",
     "exception": false,
     "start_time": "2023-04-04T15:51:52.021694",
     "status": "completed"
    },
    "tags": []
   },
   "outputs": [
    {
     "name": "stdout",
     "output_type": "stream",
     "text": [
      "Prediction:  [2]\n",
      "Label:  2\n"
     ]
    },
    {
     "data": {
      "image/png": "[encoded data removed]",
      "text/plain": [
       "<Figure size 640x480 with 1 Axes>"
      ]
     },
     "metadata": {},
     "output_type": "display_data"
    },
    {
     "name": "stdout",
     "output_type": "stream",
     "text": [
      "Prediction:  [1]\n",
      "Label:  1\n"
     ]
    },
    {
     "data": {
      "image/png": "[encoded data removed]",
      "text/plain": [
       "<Figure size 640x480 with 1 Axes>"
      ]
     },
     "metadata": {},
     "output_type": "display_data"
    },
    {
     "name": "stdout",
     "output_type": "stream",
     "text": [
      "Prediction:  [8]\n",
      "Label:  3\n"
     ]
    },
    {
     "data": {
      "image/png": "[encoded data removed]",
      "text/plain": [
       "<Figure size 640x480 with 1 Axes>"
      ]
     },
     "metadata": {},
     "output_type": "display_data"
    },
    {
     "name": "stdout",
     "output_type": "stream",
     "text": [
      "Prediction:  [7]\n",
      "Label:  7\n"
     ]
    },
    {
     "data": {
      "image/png": "[encoded data removed]",
      "text/plain": [
       "<Figure size 640x480 with 1 Axes>"
      ]
     },
     "metadata": {},
     "output_type": "display_data"
    }
   ],
   "source": [
    "test_prediction(0, W1, b1, W2, b2)\n",
    "test_prediction(1, W1, b1, W2, b2)\n",
    "test_prediction(2, W1, b1, W2, b2)\n",
    "test_prediction(3, W1, b1, W2, b2)"
   ]
  },
  {
   "cell_type": "code",
   "execution_count": 11,
   "id": "6600bc95",
   "metadata": {
    "execution": {
     "iopub.execute_input": "2023-04-04T15:51:52.582986Z",
     "iopub.status.busy": "2023-04-04T15:51:52.581728Z",
     "iopub.status.idle": "2023-04-04T15:51:53.747840Z",
     "shell.execute_reply": "2023-04-04T15:51:53.747029Z"
    },
    "papermill": {
     "duration": 1.177676,
     "end_time": "2023-04-04T15:51:53.750107",
     "exception": false,
     "start_time": "2023-04-04T15:51:52.572431",
     "status": "completed"
    },
    "tags": []
   },
   "outputs": [
    {
     "name": "stdout",
     "output_type": "stream",
     "text": [
      "Prediction:  [4]\n",
      "Label:  4\n"
     ]
    },
    {
     "data": {
      "image/png": "[encoded data removed]",
      "text/plain": [
       "<Figure size 640x480 with 1 Axes>"
      ]
     },
     "metadata": {},
     "output_type": "display_data"
    },
    {
     "name": "stdout",
     "output_type": "stream",
     "text": [
      "Prediction:  [1]\n",
      "Label:  1\n"
     ]
    },
    {
     "data": {
      "image/png": "[encoded data removed]",
      "text/plain": [
       "<Figure size 640x480 with 1 Axes>"
      ]
     },
     "metadata": {},
     "output_type": "display_data"
    },
    {
     "name": "stdout",
     "output_type": "stream",
     "text": [
      "Prediction:  [5]\n",
      "Label:  0\n"
     ]
    },
    {
     "data": {
      "image/png": "[encoded data removed]",
      "text/plain": [
       "<Figure size 640x480 with 1 Axes>"
      ]
     },
     "metadata": {},
     "output_type": "display_data"
    },
    {
     "name": "stdout",
     "output_type": "stream",
     "text": [
      "Prediction:  [2]\n",
      "Label:  2\n"
     ]
    },
    {
     "data": {
      "image/png": "[encoded data removed]",
      "text/plain": [
       "<Figure size 640x480 with 1 Axes>"
      ]
     },
     "metadata": {},
     "output_type": "display_data"
    },
    {
     "name": "stdout",
     "output_type": "stream",
     "text": [
      "Prediction:  [2]\n",
      "Label:  2\n"
     ]
    },
    {
     "data": {
      "image/png": "[encoded data removed]",
      "text/plain": [
       "<Figure size 640x480 with 1 Axes>"
      ]
     },
     "metadata": {},
     "output_type": "display_data"
    },
    {
     "name": "stdout",
     "output_type": "stream",
     "text": [
      "Prediction:  [1]\n",
      "Label:  1\n"
     ]
    },
    {
     "data": {
      "image/png": "[encoded data removed]",
      "text/plain": [
       "<Figure size 640x480 with 1 Axes>"
      ]
     },
     "metadata": {},
     "output_type": "display_data"
    },
    {
     "name": "stdout",
     "output_type": "stream",
     "text": [
      "Prediction:  [8]\n",
      "Label:  3\n"
     ]
    },
    {
     "data": {
      "image/png": "[encoded data removed]",
      "text/plain": [
       "<Figure size 640x480 with 1 Axes>"
      ]
     },
     "metadata": {},
     "output_type": "display_data"
    },
    {
     "name": "stdout",
     "output_type": "stream",
     "text": [
      "Prediction:  [7]\n",
      "Label:  7\n"
     ]
    },
    {
     "data": {
      "image/png": "[encoded data removed]",
      "text/plain": [
       "<Figure size 640x480 with 1 Axes>"
      ]
     },
     "metadata": {},
     "output_type": "display_data"
    }
   ],
   "source": [
    "test_prediction(4, W1, b1, W2, b2)\n",
    "test_prediction(1, W1, b1, W2, b2)\n",
    "test_prediction(6, W1, b1, W2, b2)\n",
    "test_prediction(78, W1, b1, W2, b2)\n",
    "test_prediction(0, W1, b1, W2, b2)\n",
    "test_prediction(1, W1, b1, W2, b2)\n",
    "test_prediction(2, W1, b1, W2, b2)\n",
    "test_prediction(3, W1, b1, W2, b2)"
   ]
  },
  {
   "cell_type": "code",
   "execution_count": 12,
   "id": "2d166478",
   "metadata": {
    "execution": {
     "iopub.execute_input": "2023-04-04T15:51:53.775492Z",
     "iopub.status.busy": "2023-04-04T15:51:53.774274Z",
     "iopub.status.idle": "2023-04-04T15:51:54.283590Z",
     "shell.execute_reply": "2023-04-04T15:51:54.282758Z"
    },
    "papermill": {
     "duration": 0.52283,
     "end_time": "2023-04-04T15:51:54.285932",
     "exception": false,
     "start_time": "2023-04-04T15:51:53.763102",
     "status": "completed"
    },
    "tags": []
   },
   "outputs": [
    {
     "name": "stdout",
     "output_type": "stream",
     "text": [
      "Prediction:  [2]\n",
      "Label:  2\n"
     ]
    },
    {
     "data": {
      "image/png": "[encoded data removed]",
      "text/plain": [
       "<Figure size 640x480 with 1 Axes>"
      ]
     },
     "metadata": {},
     "output_type": "display_data"
    },
    {
     "name": "stdout",
     "output_type": "stream",
     "text": [
      "Prediction:  [1]\n",
      "Label:  1\n"
     ]
    },
    {
     "data": {
      "image/png": "[encoded data removed]",
      "text/plain": [
       "<Figure size 640x480 with 1 Axes>"
      ]
     },
     "metadata": {},
     "output_type": "display_data"
    },
    {
     "name": "stdout",
     "output_type": "stream",
     "text": [
      "Prediction:  [8]\n",
      "Label:  3\n"
     ]
    },
    {
     "data": {
      "image/png": "[encoded data removed]",
      "text/plain": [
       "<Figure size 640x480 with 1 Axes>"
      ]
     },
     "metadata": {},
     "output_type": "display_data"
    },
    {
     "name": "stdout",
     "output_type": "stream",
     "text": [
      "Prediction:  [7]\n",
      "Label:  7\n"
     ]
    },
    {
     "data": {
      "image/png": "[encoded data removed]",
      "text/plain": [
       "<Figure size 640x480 with 1 Axes>"
      ]
     },
     "metadata": {},
     "output_type": "display_data"
    }
   ],
   "source": [
    "test_prediction(0, W1, b1, W2, b2)\n",
    "test_prediction(1, W1, b1, W2, b2)\n",
    "test_prediction(2, W1, b1, W2, b2)\n",
    "test_prediction(3, W1, b1, W2, b2)"
   ]
  },
  {
   "cell_type": "code",
   "execution_count": null,
   "id": "eeabc4e5",
   "metadata": {
    "papermill": {
     "duration": 0.010708,
     "end_time": "2023-04-04T15:51:54.311000",
     "exception": false,
     "start_time": "2023-04-04T15:51:54.300292",
     "status": "completed"
    },
    "tags": []
   },
   "outputs": [],
   "source": []
  }
 ],
 "metadata": {
  "kernelspec": {
   "display_name": "Python 3",
   "language": "python",
   "name": "python3"
  },
  "language_info": {
   "codemirror_mode": {
    "name": "ipython",
    "version": 3
   },
   "file_extension": ".py",
   "mimetype": "text/x-python",
   "name": "python",
   "nbconvert_exporter": "python",
   "pygments_lexer": "ipython3",
   "version": "3.7.12"
  },
  "papermill": {
   "default_parameters": {},
   "duration": 56.777266,
   "end_time": "2023-04-04T15:51:55.044665",
   "environment_variables": {},
   "exception": null,
   "input_path": "__notebook__.ipynb",
   "output_path": "__notebook__.ipynb",
   "parameters": {},
   "start_time": "2023-04-04T15:50:58.267399",
   "version": "2.4.0"
  }
 },
 "nbformat": 4,
 "nbformat_minor": 5
}
